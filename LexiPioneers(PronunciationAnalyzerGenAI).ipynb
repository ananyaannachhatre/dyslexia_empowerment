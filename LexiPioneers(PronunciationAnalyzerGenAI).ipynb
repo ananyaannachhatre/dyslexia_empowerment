{
 "cells": [
  {
   "cell_type": "code",
   "execution_count": 1,
   "id": "f05db042-07c2-4e66-a1cc-f3800fdd5f28",
   "metadata": {},
   "outputs": [],
   "source": [
    "import pandas as pd\n",
    "import speech_recognition as sr\n",
    "from transformers import pipeline\n",
    "import Levenshtein"
   ]
  },
  {
   "cell_type": "code",
   "execution_count": 5,
   "id": "f9b9373d-a8c2-44c5-88af-95d469478eb6",
   "metadata": {},
   "outputs": [],
   "source": [
    "from transformers import AutoModelForCausalLM, AutoTokenizer, pipeline"
   ]
  },
  {
   "cell_type": "code",
   "execution_count": 7,
   "id": "81de151a-9c53-4b0f-adb7-2e36ed83e948",
   "metadata": {},
   "outputs": [
    {
     "name": "stderr",
     "output_type": "stream",
     "text": [
      "Device set to use cpu\n"
     ]
    }
   ],
   "source": [
    "model = AutoModelForCausalLM.from_pretrained(\"gpt2\")\n",
    "tokenizer = AutoTokenizer.from_pretrained(\"gpt2\")\n",
    "\n",
    "# Use it in the pipeline\n",
    "generator = pipeline(\"text-generation\", model=model, tokenizer=tokenizer)"
   ]
  },
  {
   "cell_type": "code",
   "execution_count": 21,
   "id": "4779faff-2967-4257-8f3d-c4da9ef52226",
   "metadata": {},
   "outputs": [],
   "source": [
    "def load_ipa_dataset(file_path):\n",
    "    df = pd.read_csv('phoneticDictionary.csv')\n",
    "    df['word'] = df['word'].astype(str)\n",
    "    df['phon'] = df['phon'].astype(str)\n",
    "    df['syl'] = df['syl'].astype(int)\n",
    "    df['start'] = df['start'].astype(str)\n",
    "    df['end'] = df['end'].astype(str)\n",
    "    return df"
   ]
  },
  {
   "cell_type": "code",
   "execution_count": 23,
   "id": "e5c6043c-64c7-4c80-8266-5834367ad8a0",
   "metadata": {},
   "outputs": [],
   "source": [
    "def generate_valid_word(difficulty, df):\n",
    "    prompt = {\n",
    "        \"easy\": \"Simple words: \",\n",
    "        \"medium\": \"Moderate words: \",\n",
    "        \"hard\": \"Complex words: \"\n",
    "    }[difficulty]\n",
    "    \n",
    "    while True:\n",
    "        generated_text = generator(prompt, max_length=10, num_return_sequences=1)\n",
    "        candidate_word = generated_text[0]['generated_text'].split()[0].strip().lower()\n",
    "        \n",
    "        if candidate_word in df['word'].str.lower().values:\n",
    "            return candidate_word"
   ]
  },
  {
   "cell_type": "code",
   "execution_count": 25,
   "id": "b4bcb291-0291-44e4-97be-3f9ff6fb3d21",
   "metadata": {},
   "outputs": [],
   "source": [
    "def record_user_audio(filename=\"user_audio.wav\"):\n",
    "    recognizer = sr.Recognizer()\n",
    "    with sr.Microphone() as source:\n",
    "        print(\"Please pronounce the magical word...\")\n",
    "        recognizer.adjust_for_ambient_noise(source)\n",
    "        audio_data = recognizer.listen(source)\n",
    "        print(\"Audio recorded.\")\n",
    "\n",
    "        with open(filename, \"wb\") as f:\n",
    "            f.write(audio_data.get_wav_data())\n",
    "            \n",
    "    return audio_data"
   ]
  },
  {
   "cell_type": "code",
   "execution_count": 27,
   "id": "2f5702cb-cf0e-471b-8d0c-5b1ab0849b56",
   "metadata": {},
   "outputs": [],
   "source": [
    "def analyze_pronunciation(user_audio, target_word, df, tolerance=0.6, poor_match_threshold=0.4):\n",
    "    recognizer = sr.Recognizer()\n",
    "\n",
    "    try:\n",
    "        user_pronunciation = recognizer.recognize_google(user_audio)\n",
    "        print(f\"User Pronunciation: {user_pronunciation}\")\n",
    "\n",
    "        target_row = df[df['word'].str.lower() == target_word.lower()]\n",
    "        if not target_row.empty:\n",
    "            correct_pronunciation = target_row['word'].values[0]\n",
    "            ipa_pronunciation = target_row['phon'].values[0]\n",
    "            print(f\"Correct Pronunciation (IPA): {ipa_pronunciation}\")\n",
    "\n",
    "            user_pronunciation = user_pronunciation.replace(\" \", \"\").lower()\n",
    "            correct_pronunciation = correct_pronunciation.replace(\" \", \"\").lower()\n",
    "\n",
    "            edit_distance = Levenshtein.distance(user_pronunciation, correct_pronunciation)\n",
    "\n",
    "            max_len = max(len(user_pronunciation), len(correct_pronunciation))\n",
    "            similarity = 1 - (edit_distance / max_len)\n",
    "\n",
    "            print(f\"Similarity Score: {similarity}\")\n",
    "\n",
    "            if similarity < poor_match_threshold:\n",
    "                print(\"Your pronunciation is significantly different.\")\n",
    "                return 0 \n",
    "            elif similarity < tolerance:\n",
    "                print(\"Your pronunciation is slightly different, but acceptable.\")\n",
    "                return similarity  \n",
    "            return similarity\n",
    "        \n",
    "        else:\n",
    "            print(\"Target word not found in dataset\")\n",
    "            return 0 \n",
    "            \n",
    "    except sr.UnknownValueError:\n",
    "        print(\"Could not understand audio\")\n",
    "        return 0\n",
    "    except sr.RequestError:\n",
    "        print(\"Request failed\")\n",
    "        return 0             "
   ]
  },
  {
   "cell_type": "code",
   "execution_count": 29,
   "id": "adda511d-55c4-471a-9b6a-2a9f2c96df3a",
   "metadata": {},
   "outputs": [],
   "source": [
    "def provide_feedback(similarity):\n",
    "    if similarity is None:\n",
    "        print(\"Pronunciation analysis could not be completed.\")\n",
    "        return\n",
    "    \n",
    "    if similarity > 0.9:\n",
    "        print(\"Excellent! Your pronunciation is almost perfect.\")\n",
    "    elif similarity > 0.75:\n",
    "        print(\"Good job! Your pronunciation is quite accurate.\")\n",
    "    elif similarity >= 0.5:\n",
    "        print(\"Not bad! But there's some room for improvement.\")\n",
    "    else:\n",
    "        print(\"It seems like your pronunciation is quite different. Try again.\")"
   ]
  },
  {
   "cell_type": "code",
   "execution_count": 31,
   "id": "76c7da7b-d84d-4e58-889c-e2b596bd3c13",
   "metadata": {},
   "outputs": [],
   "source": [
    "def spell_generation_game(file_path):\n",
    "    df = load_ipa_dataset(file_path)\n",
    "    difficulty = \"medium\"  # Start with medium difficulty\n",
    "    \n",
    "    while True:\n",
    "        magical_word = generate_valid_word(difficulty, df)\n",
    "        print(f\"Your magical word is: {magical_word}\")\n",
    "        \n",
    "        matching_rows = df[df['word'].str.lower() == magical_word.lower()]\n",
    "        if not matching_rows.empty:\n",
    "            print(f\"The word {magical_word} exists in the dataset.\")\n",
    "            print(\"Here are some details:\")\n",
    "            print(matching_rows[['word', 'phon', 'syl', 'start', 'end']].head())\n",
    "            \n",
    "            user_audio = record_user_audio()\n",
    "            similarity = analyze_pronunciation(user_audio, magical_word, df)\n",
    "            provide_feedback(similarity)\n",
    "\n",
    "            if similarity > 0.9:\n",
    "                difficulty = \"hard\"\n",
    "            elif similarity > 0.5:\n",
    "                difficulty = \"medium\"\n",
    "            else:\n",
    "                difficulty = \"easy\"\n",
    "        else:\n",
    "            print(f\"The word {magical_word} does not exist in the dataset.\")\n",
    "        \n",
    "        play_again = input(\"Would you like to try another word? (yes/no): \").strip().lower()\n",
    "        if play_again != \"yes\":\n",
    "            print(\"Thanks for playing! Goodbye.\")\n",
    "            break"
   ]
  },
  {
   "cell_type": "code",
   "execution_count": 35,
   "id": "85ac37a4-2323-491a-9838-65f7061f6211",
   "metadata": {},
   "outputs": [
    {
     "name": "stderr",
     "output_type": "stream",
     "text": [
      "Setting `pad_token_id` to `eos_token_id`:50256 for open-end generation.\n"
     ]
    },
    {
     "name": "stdout",
     "output_type": "stream",
     "text": [
      "Your magical word is: moderate\n",
      "The word moderate exists in the dataset.\n",
      "Here are some details:\n",
      "           word       phon  syl start end\n",
      "80214  moderate  ˈmɑdɝˌeɪt    3     ɑ  eɪ\n",
      "80215  moderate    ˈmɑdɝət    2     ɑ  ɝə\n",
      "Please pronounce the magical word...\n",
      "Audio recorded.\n",
      "User Pronunciation: moderate\n",
      "Correct Pronunciation (IPA): ˈmɑdɝˌeɪt\n",
      "Similarity Score: 1.0\n",
      "Excellent! Your pronunciation is almost perfect.\n"
     ]
    },
    {
     "name": "stdin",
     "output_type": "stream",
     "text": [
      "Would you like to try another word? (yes/no):  yes\n"
     ]
    },
    {
     "name": "stderr",
     "output_type": "stream",
     "text": [
      "Setting `pad_token_id` to `eos_token_id`:50256 for open-end generation.\n"
     ]
    },
    {
     "name": "stdout",
     "output_type": "stream",
     "text": [
      "Your magical word is: complex\n",
      "The word complex exists in the dataset.\n",
      "Here are some details:\n",
      "          word       phon  syl start end\n",
      "23845  complex  ˈkɑmpɫɛks    2     ɑ   ɛ\n",
      "23846  complex  kəmˈpɫɛks    2     ə   ɛ\n",
      "Please pronounce the magical word...\n",
      "Audio recorded.\n",
      "User Pronunciation: complex\n",
      "Correct Pronunciation (IPA): ˈkɑmpɫɛks\n",
      "Similarity Score: 1.0\n",
      "Excellent! Your pronunciation is almost perfect.\n"
     ]
    },
    {
     "name": "stdin",
     "output_type": "stream",
     "text": [
      "Would you like to try another word? (yes/no):  yes\n"
     ]
    },
    {
     "name": "stderr",
     "output_type": "stream",
     "text": [
      "Setting `pad_token_id` to `eos_token_id`:50256 for open-end generation.\n"
     ]
    },
    {
     "name": "stdout",
     "output_type": "stream",
     "text": [
      "Your magical word is: complex\n",
      "The word complex exists in the dataset.\n",
      "Here are some details:\n",
      "          word       phon  syl start end\n",
      "23845  complex  ˈkɑmpɫɛks    2     ɑ   ɛ\n",
      "23846  complex  kəmˈpɫɛks    2     ə   ɛ\n",
      "Please pronounce the magical word...\n",
      "Audio recorded.\n",
      "Could not understand audio\n",
      "It seems like your pronunciation is quite different. Try again.\n"
     ]
    },
    {
     "name": "stdin",
     "output_type": "stream",
     "text": [
      "Would you like to try another word? (yes/no):  yes\n"
     ]
    },
    {
     "name": "stderr",
     "output_type": "stream",
     "text": [
      "Setting `pad_token_id` to `eos_token_id`:50256 for open-end generation.\n"
     ]
    },
    {
     "name": "stdout",
     "output_type": "stream",
     "text": [
      "Your magical word is: simple\n",
      "The word simple exists in the dataset.\n",
      "Here are some details:\n",
      "          word     phon  syl start end\n",
      "111289  simple  ˈsɪmpəɫ    2     ɪ   ə\n",
      "Please pronounce the magical word...\n",
      "Audio recorded.\n",
      "Could not understand audio\n",
      "It seems like your pronunciation is quite different. Try again.\n"
     ]
    },
    {
     "name": "stdin",
     "output_type": "stream",
     "text": [
      "Would you like to try another word? (yes/no):  no\n"
     ]
    },
    {
     "name": "stdout",
     "output_type": "stream",
     "text": [
      "Thanks for playing! Goodbye.\n"
     ]
    }
   ],
   "source": [
    "spell_generation_game('phoneticDictionary.csv')"
   ]
  },
  {
   "cell_type": "code",
   "execution_count": 37,
   "id": "c62c9783-c5d0-4a14-913e-f2471412cc3f",
   "metadata": {},
   "outputs": [],
   "source": [
    "import pandas as pd\n",
    "import speech_recognition as sr\n",
    "from transformers import pipeline\n",
    "import Levenshtein"
   ]
  },
  {
   "cell_type": "code",
   "execution_count": 39,
   "id": "7802fa1d-428a-45bc-8183-eb695903d213",
   "metadata": {},
   "outputs": [
    {
     "name": "stderr",
     "output_type": "stream",
     "text": [
      "Device set to use cpu\n"
     ]
    }
   ],
   "source": [
    "model = AutoModelForCausalLM.from_pretrained(\"gpt2\")\n",
    "tokenizer = AutoTokenizer.from_pretrained(\"gpt2\")\n",
    "\n",
    "# Use it in the pipeline\n",
    "generator = pipeline(\"text-generation\", model=model, tokenizer=tokenizer)"
   ]
  },
  {
   "cell_type": "code",
   "execution_count": 53,
   "id": "89b1bcc0-9a6c-470f-bdbe-e749d9188f99",
   "metadata": {},
   "outputs": [],
   "source": [
    "def load_ipa_dataset(file_path):\n",
    "    df = pd.read_csv('phoneticdict_with_labels.csv')\n",
    "    df['word'] = df['word'].astype(str)\n",
    "    df['phon'] = df['phon'].astype(str)\n",
    "    df['syl'] = df['syl'].astype(int)\n",
    "    df['start'] = df['start'].astype(str)\n",
    "    df['end'] = df['end'].astype(str)\n",
    "    df['level'] = df['level'].astype(str)  # Assuming 'level' is a column in your dataset\n",
    "    return df"
   ]
  },
  {
   "cell_type": "code",
   "execution_count": 163,
   "id": "f8d7571c-f9e5-4bc6-99f3-cc1230e841b9",
   "metadata": {},
   "outputs": [],
   "source": [
    "def generate_valid_word(difficulty, df, prev_word, prev_similarity):\n",
    "    prompt = f\"Generate a {difficulty} word: \"\n",
    "    \n",
    "    while True:\n",
    "        generated_text = generator(prompt, max_length=10, num_return_sequences=1)\n",
    "        candidate_word = generated_text[0]['generated_text'].split()[0].strip().lower()\n",
    "        \n",
    "        if candidate_word in df['word'].str.lower().values:\n",
    "            return candidate_word"
   ]
  },
  {
   "cell_type": "code",
   "execution_count": 165,
   "id": "4ccf69a6-161b-4116-83de-7ec1fc6cb8a8",
   "metadata": {},
   "outputs": [],
   "source": [
    "def record_user_audio(filename=\"user_audio.wav\"):\n",
    "    recognizer = sr.Recognizer()\n",
    "    with sr.Microphone() as source:\n",
    "        print(\"Please pronounce the magical word...\")\n",
    "        recognizer.adjust_for_ambient_noise(source)\n",
    "        audio_data = recognizer.listen(source)\n",
    "        print(\"Audio recorded.\")\n",
    "\n",
    "        with open(filename, \"wb\") as f:\n",
    "            f.write(audio_data.get_wav_data())\n",
    "            \n",
    "    return audio_data"
   ]
  },
  {
   "cell_type": "code",
   "execution_count": 167,
   "id": "f1595ce5-2993-428b-acd3-d7ef95967b8d",
   "metadata": {},
   "outputs": [],
   "source": [
    "def analyze_pronunciation(user_audio, target_word, df, tolerance=0.6, poor_match_threshold=0.4):\n",
    "    recognizer = sr.Recognizer()\n",
    "\n",
    "    try:\n",
    "        user_pronunciation = recognizer.recognize_google(user_audio)\n",
    "        print(f\"User Pronunciation: {user_pronunciation}\")\n",
    "\n",
    "        target_row = df[df['word'].str.lower() == target_word.lower()]\n",
    "        if not target_row.empty:\n",
    "            correct_pronunciation = target_row['word'].values[0]\n",
    "            ipa_pronunciation = target_row['phon'].values[0]\n",
    "            print(f\"Correct Pronunciation (IPA): {ipa_pronunciation}\")\n",
    "\n",
    "            user_pronunciation = user_pronunciation.replace(\" \", \"\").lower()\n",
    "            correct_pronunciation = correct_pronunciation.replace(\" \", \"\").lower()\n",
    "\n",
    "            edit_distance = Levenshtein.distance(user_pronunciation, correct_pronunciation)\n",
    "\n",
    "            max_len = max(len(user_pronunciation), len(correct_pronunciation))\n",
    "            similarity = 1 - (edit_distance / max_len)\n",
    "\n",
    "            print(f\"Similarity Score: {similarity}\")\n",
    "\n",
    "            if similarity < poor_match_threshold:\n",
    "                print(\"Your pronunciation is significantly different.\")\n",
    "                return 0 \n",
    "            elif similarity < tolerance:\n",
    "                print(\"Your pronunciation is slightly different, but acceptable.\")\n",
    "                return similarity  \n",
    "            return similarity\n",
    "        \n",
    "        else:\n",
    "            print(\"Target word not found in dataset\")\n",
    "            return 0 \n",
    "            \n",
    "    except sr.UnknownValueError:\n",
    "        print(\"Could not understand audio\")\n",
    "        return 0\n",
    "    except sr.RequestError:\n",
    "        print(\"Request failed\")\n",
    "        return 0 \n"
   ]
  },
  {
   "cell_type": "code",
   "execution_count": 169,
   "id": "ffada251-38c8-4671-9cc5-d71e637102e3",
   "metadata": {},
   "outputs": [],
   "source": [
    "\n",
    "def provide_feedback(similarity):\n",
    "    if similarity is None:\n",
    "        print(\"Pronunciation analysis could not be completed.\")\n",
    "        return\n",
    "    \n",
    "    if similarity > 0.9:\n",
    "        print(\"Excellent! Your pronunciation is almost perfect.\")\n",
    "    elif similarity > 0.75:\n",
    "        print(\"Good job! Your pronunciation is quite accurate.\")\n",
    "    elif similarity >= 0.5:\n",
    "        print(\"Not bad! But there's some room for improvement.\")\n",
    "    else:\n",
    "        print(\"It seems like your pronunciation is quite different. Try again.\")\n"
   ]
  },
  {
   "cell_type": "code",
   "execution_count": 171,
   "id": "bd9cf90e-c862-4d68-981b-348b98c039a0",
   "metadata": {},
   "outputs": [],
   "source": [
    "def spell_generation_game(file_path):\n",
    "    df = load_ipa_dataset('phoneticdict_with_labels.csv')\n",
    "    difficulty = \"simple\"  # Start with simple difficulty\n",
    "    correct_streak = 0\n",
    "    incorrect_streak = 0\n",
    "    prev_word = None\n",
    "    prev_similarity = None\n",
    "    \n",
    "    while True:\n",
    "        magical_word = generate_valid_word(difficulty, df, prev_word, prev_similarity)\n",
    "        print(f\"Your magical word is: {magical_word}\")\n",
    "        \n",
    "        matching_rows = df[df['word'].str.lower() == magical_word.lower()]\n",
    "        if not matching_rows.empty:\n",
    "            print(f\"The word {magical_word} exists in the dataset.\")\n",
    "            print(\"Here are some details:\")\n",
    "            print(matching_rows[['word', 'phon', 'syl', 'start', 'end', 'level']].head())\n",
    "            \n",
    "            user_audio = record_user_audio()\n",
    "            similarity = analyze_pronunciation(user_audio, magical_word, df)\n",
    "\n",
    "            provide_feedback(similarity)\n",
    "\n",
    "            # Track streaks\n",
    "            if similarity > 0.75:\n",
    "                correct_streak += 1\n",
    "                incorrect_streak = 0\n",
    "            else:\n",
    "                incorrect_streak += 1\n",
    "                correct_streak = 0\n",
    "            \n",
    "            # Adjust difficulty based on performance streaks\n",
    "            if correct_streak >= 2:\n",
    "                if difficulty == \"simple\":\n",
    "                    difficulty = \"moderate\"\n",
    "                elif difficulty == \"moderate\":\n",
    "                    difficulty = \"complex\"\n",
    "                correct_streak = 0  # Reset streak after difficulty change\n",
    "            elif incorrect_streak >= 2:\n",
    "                if difficulty == \"complex\":\n",
    "                    difficulty = \"moderate\"\n",
    "                elif difficulty == \"moderate\":\n",
    "                    difficulty = \"simple\"\n",
    "                incorrect_streak = 0  # Reset streak after difficulty change\n",
    "\n",
    "            # Store previous word and similarity for the next round\n",
    "            prev_word = magical_word\n",
    "            prev_similarity = similarity\n",
    "\n",
    "        else:\n",
    "            print(f\"The word {magical_word} does not exist in the dataset.\")\n",
    "        \n",
    "        play_again = input(\"Would you like to try another word? (yes/no): \").strip().lower()\n",
    "        if play_again != \"yes\":\n",
    "            print(\"Thanks for playing! Goodbye.\")\n",
    "            break"
   ]
  },
  {
   "cell_type": "code",
   "execution_count": 173,
   "id": "326aa063-f1ef-4d72-a3e0-f16d07c894af",
   "metadata": {},
   "outputs": [
    {
     "ename": "TypeError",
     "evalue": "generate_valid_word() takes 2 positional arguments but 4 were given",
     "output_type": "error",
     "traceback": [
      "\u001b[1;31m---------------------------------------------------------------------------\u001b[0m",
      "\u001b[1;31mTypeError\u001b[0m                                 Traceback (most recent call last)",
      "Cell \u001b[1;32mIn[173], line 1\u001b[0m\n\u001b[1;32m----> 1\u001b[0m spell_generation_game(\u001b[38;5;124m'\u001b[39m\u001b[38;5;124mphoneticdict_with_labels.csv\u001b[39m\u001b[38;5;124m'\u001b[39m)\n",
      "Cell \u001b[1;32mIn[171], line 10\u001b[0m, in \u001b[0;36mspell_generation_game\u001b[1;34m(file_path)\u001b[0m\n\u001b[0;32m      7\u001b[0m prev_similarity \u001b[38;5;241m=\u001b[39m \u001b[38;5;28;01mNone\u001b[39;00m\n\u001b[0;32m      9\u001b[0m \u001b[38;5;28;01mwhile\u001b[39;00m \u001b[38;5;28;01mTrue\u001b[39;00m:\n\u001b[1;32m---> 10\u001b[0m     magical_word \u001b[38;5;241m=\u001b[39m generate_valid_word(difficulty, df, prev_word, prev_similarity)\n\u001b[0;32m     11\u001b[0m     \u001b[38;5;28mprint\u001b[39m(\u001b[38;5;124mf\u001b[39m\u001b[38;5;124m\"\u001b[39m\u001b[38;5;124mYour magical word is: \u001b[39m\u001b[38;5;132;01m{\u001b[39;00mmagical_word\u001b[38;5;132;01m}\u001b[39;00m\u001b[38;5;124m\"\u001b[39m)\n\u001b[0;32m     13\u001b[0m     matching_rows \u001b[38;5;241m=\u001b[39m df[df[\u001b[38;5;124m'\u001b[39m\u001b[38;5;124mword\u001b[39m\u001b[38;5;124m'\u001b[39m]\u001b[38;5;241m.\u001b[39mstr\u001b[38;5;241m.\u001b[39mlower() \u001b[38;5;241m==\u001b[39m magical_word\u001b[38;5;241m.\u001b[39mlower()]\n",
      "\u001b[1;31mTypeError\u001b[0m: generate_valid_word() takes 2 positional arguments but 4 were given"
     ]
    }
   ],
   "source": [
    "spell_generation_game('phoneticdict_with_labels.csv')"
   ]
  },
  {
   "cell_type": "code",
   "execution_count": 111,
   "id": "da331c52-1655-4bfa-a479-97123729fc57",
   "metadata": {},
   "outputs": [],
   "source": [
    "def spell_generation_game1(file_path):\n",
    "    df = load_ipa_dataset('phoneticdict_with_labels.csv')\n",
    "    difficulty = \"simple\"\n",
    "    correct_streak = 0\n",
    "    incorrect_streak = 0\n",
    "    prev_word = None\n",
    "    prev_similarity = None\n",
    "    \n",
    "    while True:\n",
    "        # Generate a valid word\n",
    "        magical_word = generate_valid_word(difficulty, df, prev_word, prev_similarity)\n",
    "        print(f\"Generated word: {magical_word}\")\n",
    "        \n",
    "        # Check if the generated word exists in the dataset\n",
    "        matching_rows = df[df['word'].str.lower() == magical_word.lower()]\n",
    "        print(f\"Matching rows in dataset: {matching_rows[['word', 'phon', 'syl', 'start', 'end', 'level']].head()}\")  # Debug output\n",
    "        \n",
    "        if not matching_rows.empty:\n",
    "            print(f\"The word {magical_word} exists in the dataset.\")\n",
    "            print(\"Here are some details:\")\n",
    "            print(matching_rows[['word', 'phon', 'syl', 'start', 'end', 'level']].head())\n",
    "            \n",
    "            user_audio = record_user_audio()\n",
    "            similarity = analyze_pronunciation(user_audio, magical_word, df)\n",
    "            print(f\"User pronunciation similarity: {similarity}\")  # Debug output\n",
    "\n",
    "            provide_feedback(similarity)\n",
    "\n",
    "            # Track streaks\n",
    "            if similarity > 0.75:\n",
    "                correct_streak += 1\n",
    "                incorrect_streak = 0\n",
    "            else:\n",
    "                incorrect_streak += 1\n",
    "                correct_streak = 0\n",
    "            \n",
    "            # Adjust difficulty based on performance streaks\n",
    "            if correct_streak >= 2:\n",
    "                if difficulty == \"simple\":\n",
    "                    difficulty = \"moderate\"\n",
    "                elif difficulty == \"moderate\":\n",
    "                    difficulty = \"complex\"\n",
    "                correct_streak = 0\n",
    "            elif incorrect_streak >= 2:\n",
    "                if difficulty == \"complex\":\n",
    "                    difficulty = \"moderate\"\n",
    "                elif difficulty == \"moderate\":\n",
    "                    difficulty = \"simple\"\n",
    "                incorrect_streak = 0\n",
    "\n",
    "            print(f\"Difficulty is now: {difficulty}\")  # Debug output\n",
    "            prev_word = magical_word\n",
    "            prev_similarity = similarity\n",
    "        else:\n",
    "            print(f\"The word {magical_word} does not exist in the dataset.\")\n",
    "        \n",
    "        play_again = input(\"Would you like to try another word? (yes/no): \").strip().lower()\n",
    "        if play_again != \"yes\":\n",
    "            print(\"Thanks for playing! Goodbye.\")\n",
    "            break\n"
   ]
  },
  {
   "cell_type": "code",
   "execution_count": 113,
   "id": "9b8890c0-618a-4a3e-99ac-e2f24498fe8a",
   "metadata": {},
   "outputs": [
    {
     "name": "stderr",
     "output_type": "stream",
     "text": [
      "Setting `pad_token_id` to `eos_token_id`:50256 for open-end generation.\n"
     ]
    },
    {
     "name": "stdout",
     "output_type": "stream",
     "text": [
      "Generated Word: generate\n",
      "Generated word: generate\n",
      "Matching rows in dataset:            word        phon  syl start end    level\n",
      "47221  generate  ˈdʒɛnɝˌeɪt    3     ɛ  eɪ  complex\n",
      "The word generate exists in the dataset.\n",
      "Here are some details:\n",
      "           word        phon  syl start end    level\n",
      "47221  generate  ˈdʒɛnɝˌeɪt    3     ɛ  eɪ  complex\n",
      "Please pronounce the magical word...\n",
      "Audio recorded.\n",
      "User Pronunciation: generate\n",
      "Correct Pronunciation (IPA): ˈdʒɛnɝˌeɪt\n",
      "Similarity Score: 1.0\n",
      "User pronunciation similarity: 1.0\n",
      "Excellent! Your pronunciation is almost perfect.\n",
      "Difficulty is now: simple\n"
     ]
    },
    {
     "name": "stdin",
     "output_type": "stream",
     "text": [
      "Would you like to try another word? (yes/no):  yes\n"
     ]
    },
    {
     "name": "stderr",
     "output_type": "stream",
     "text": [
      "Setting `pad_token_id` to `eos_token_id`:50256 for open-end generation.\n"
     ]
    },
    {
     "name": "stdout",
     "output_type": "stream",
     "text": [
      "Generated Word: generate\n",
      "Generated word: generate\n",
      "Matching rows in dataset:            word        phon  syl start end    level\n",
      "47221  generate  ˈdʒɛnɝˌeɪt    3     ɛ  eɪ  complex\n",
      "The word generate exists in the dataset.\n",
      "Here are some details:\n",
      "           word        phon  syl start end    level\n",
      "47221  generate  ˈdʒɛnɝˌeɪt    3     ɛ  eɪ  complex\n",
      "Please pronounce the magical word...\n",
      "Audio recorded.\n",
      "User Pronunciation: generate\n",
      "Correct Pronunciation (IPA): ˈdʒɛnɝˌeɪt\n",
      "Similarity Score: 1.0\n",
      "User pronunciation similarity: 1.0\n",
      "Excellent! Your pronunciation is almost perfect.\n",
      "Difficulty is now: moderate\n"
     ]
    },
    {
     "name": "stdin",
     "output_type": "stream",
     "text": [
      "Would you like to try another word? (yes/no):  no\n"
     ]
    },
    {
     "name": "stdout",
     "output_type": "stream",
     "text": [
      "Thanks for playing! Goodbye.\n"
     ]
    }
   ],
   "source": [
    "spell_generation_game1('phoneticdict_with_labels.csv')"
   ]
  },
  {
   "cell_type": "code",
   "execution_count": null,
   "id": "94029ced-74f5-4e93-85de-06cdbd14c85e",
   "metadata": {},
   "outputs": [],
   "source": []
  }
 ],
 "metadata": {
  "kernelspec": {
   "display_name": "Python 3 (ipykernel)",
   "language": "python",
   "name": "python3"
  },
  "language_info": {
   "codemirror_mode": {
    "name": "ipython",
    "version": 3
   },
   "file_extension": ".py",
   "mimetype": "text/x-python",
   "name": "python",
   "nbconvert_exporter": "python",
   "pygments_lexer": "ipython3",
   "version": "3.12.4"
  }
 },
 "nbformat": 4,
 "nbformat_minor": 5
}
